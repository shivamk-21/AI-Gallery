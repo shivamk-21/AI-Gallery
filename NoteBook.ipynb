{
 "cells": [
  {
   "cell_type": "markdown",
   "metadata": {},
   "source": [
    "## AI Gallery"
   ]
  },
  {
   "cell_type": "code",
   "execution_count": 1,
   "metadata": {},
   "outputs": [],
   "source": [
    "import os\n",
    "os.environ['KMP_DUPLICATE_LIB_OK'] = 'TRUE'\n",
    "import torch\n",
    "import numpy as np\n",
    "from PIL import Image\n",
    "from transformers import CLIPProcessor, CLIPModel\n",
    "import faiss  # FAISS for fast similarity search\n",
    "from tqdm import tqdm"
   ]
  },
  {
   "cell_type": "code",
   "execution_count": null,
   "metadata": {},
   "outputs": [
    {
     "name": "stderr",
     "output_type": "stream",
     "text": [
      "c:\\Users\\2103s\\miniconda3\\envs\\venv\\Lib\\site-packages\\transformers\\tokenization_utils_base.py:1614: FutureWarning: `clean_up_tokenization_spaces` was not set. It will be set to `True` by default. This behavior will be deprecated in transformers v4.45, and will be then set to `False` by default. For more details check this issue: https://github.com/huggingface/transformers/issues/31884\n",
      "  warnings.warn(\n"
     ]
    }
   ],
   "source": [
    "# Load CLIP Model\n",
    "device = \"cuda\" if torch.cuda.is_available() else \"cpu\"\n",
    "model = CLIPModel.from_pretrained(\"openai/clip-vit-base-patch32\").to(device)\n",
    "processor = CLIPProcessor.from_pretrained(\"openai/clip-vit-base-patch32\")\n",
    "\n",
    "# Paths\n",
    "folder_path = r\"{Images Folder}\"\n",
    "description_store = {}\n",
    "vector_store = {}\n",
    "\n",
    "# Path to save/load existing vector store\n",
    "vector_store_path = \"vector_store.npy\"\n",
    "faiss_index_path = \"faiss_index.index\""
   ]
  },
  {
   "cell_type": "code",
   "execution_count": 3,
   "metadata": {},
   "outputs": [],
   "source": [
    "# Check if vector store already exists\n",
    "if os.path.exists(vector_store_path):\n",
    "    vector_store = np.load(vector_store_path, allow_pickle=True).item()\n",
    "else:\n",
    "    vector_store = {}"
   ]
  },
  {
   "cell_type": "code",
   "execution_count": 4,
   "metadata": {},
   "outputs": [
    {
     "name": "stderr",
     "output_type": "stream",
     "text": [
      "100%|██████████| 762/762 [00:00<00:00, 753787.65it/s]"
     ]
    },
    {
     "name": "stderr",
     "output_type": "stream",
     "text": [
      "\n"
     ]
    }
   ],
   "source": [
    "image_features = []\n",
    "\n",
    "for img_file in tqdm(os.listdir(folder_path)):\n",
    "    if img_file.endswith((\".png\", \".jpg\", \".jpeg\")):\n",
    "        img_path = os.path.join(folder_path, img_file)\n",
    "        \n",
    "        # Check if image feature is already generated\n",
    "        if img_path in vector_store:\n",
    "            continue  # Skip if already processed\n",
    "        \n",
    "        image = Image.open(img_path).convert(\"RGB\")\n",
    "        \n",
    "        # Generate Image Features\n",
    "        inputs = processor(images=image, return_tensors=\"pt\").to(device)\n",
    "        outputs = model.get_image_features(**inputs)\n",
    "        outputs = outputs / outputs.norm(p=2, dim=-1, keepdim=True)  # Normalize to unit length\n",
    "        \n",
    "        # Store Image Embeddings with Folder Information\n",
    "        vector_store[img_path] = outputs.detach().cpu().numpy()\n",
    "        image_features.append(outputs.detach().cpu().numpy())"
   ]
  },
  {
   "cell_type": "code",
   "execution_count": null,
   "metadata": {},
   "outputs": [],
   "source": [
    "# Convert to NumPy for FAISS\n",
    "image_features = np.vstack(image_features)\n",
    "\n",
    "# Save vector store\n",
    "np.save(\"vector_store.npy\", vector_store)  # Save embeddings with folder details\n",
    "\n",
    "if os.path.exists(faiss_index_path):\n",
    "    faiss_index = faiss.read_index(faiss_index_path)\n",
    "    faiss_index.add(image_features)\n",
    "else:\n",
    "    dimension = image_features.shape[1]  # Reduced feature dimension\n",
    "    faiss_index = faiss.IndexFlatIP(dimension)  # Use inner product (IP) for cosine similarity\n",
    "    faiss_index.add(image_features)  # Add vectors to the index\n",
    "\n",
    "# Save FAISS index to file\n",
    "faiss.write_index(faiss_index, faiss_index_path)"
   ]
  },
  {
   "cell_type": "code",
   "execution_count": null,
   "metadata": {},
   "outputs": [],
   "source": [
    "# Query\n",
    "query = \"three persons\"\n",
    "query_inputs = processor(text=[query], return_tensors=\"pt\").to(device)\n",
    "query_vector = model.get_text_features(**query_inputs)\n",
    "query_vector = query_vector / query_vector.norm(p=2, dim=-1, keepdim=True)  # Normalize to unit length\n",
    "\n",
    "# Perform top-k search using FAISS\n",
    "top_k = 5\n",
    "distances, top_k_indices = faiss_index.search(query_vector.cpu().detach().numpy(), top_k)\n",
    "\n",
    "# Retrieve top-k results (excluding cluster information)\n",
    "top_k_results = [\n",
    "    {\"image_path\": list(vector_store.keys())[i], \"distance\": distances[0][j]}\n",
    "    for j, i in enumerate(top_k_indices[0])\n",
    "]\n",
    "\n",
    "# Output results\n",
    "for result in top_k_results:\n",
    "    print(f\"Image Path: {result['image_path']}\")\n",
    "    print(f\"Distance: {result['distance']}\")"
   ]
  }
 ],
 "metadata": {
  "kernelspec": {
   "display_name": "venv",
   "language": "python",
   "name": "python3"
  },
  "language_info": {
   "codemirror_mode": {
    "name": "ipython",
    "version": 3
   },
   "file_extension": ".py",
   "mimetype": "text/x-python",
   "name": "python",
   "nbconvert_exporter": "python",
   "pygments_lexer": "ipython3",
   "version": "3.11.9"
  }
 },
 "nbformat": 4,
 "nbformat_minor": 2
}
